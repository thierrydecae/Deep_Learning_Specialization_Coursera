{
  "cells": [
    {
      "cell_type": "markdown",
      "metadata": {
        "id": "view-in-github",
        "colab_type": "text"
      },
      "source": [
        "<a href=\"https://colab.research.google.com/github/thierrydecae/Deep_Learning_Specialization_Coursera/blob/main/2.Improving%20Deep%20Neural%20Networks%3A%20Hyperparameter%20tuning%2C%20Regularization%20and%20Optimization/optimization_algoritihms.ipynb\" target=\"_parent\"><img src=\"https://colab.research.google.com/assets/colab-badge.svg\" alt=\"Open In Colab\"/></a>"
      ]
    },
    {
      "cell_type": "markdown",
      "metadata": {
        "toc": "true",
        "id": "JZXvpDBKAgiA"
      },
      "source": [
        "# Table of Contents\n",
        " <p><div class=\"lev1 toc-item\"><a href=\"#Optimization-Algorithms\" data-toc-modified-id=\"Optimization-Algorithms-1\"><span class=\"toc-item-num\">1&nbsp;&nbsp;</span>Optimization Algorithms</a></div><div class=\"lev2 toc-item\"><a href=\"#Mini-batch-gradient-descent\" data-toc-modified-id=\"Mini-batch-gradient-descent-11\"><span class=\"toc-item-num\">1.1&nbsp;&nbsp;</span>Mini-batch gradient descent</a></div><div class=\"lev2 toc-item\"><a href=\"#Understanding-mini-batch-gradient-descent\" data-toc-modified-id=\"Understanding-mini-batch-gradient-descent-12\"><span class=\"toc-item-num\">1.2&nbsp;&nbsp;</span>Understanding mini-batch gradient descent</a></div><div class=\"lev2 toc-item\"><a href=\"#Exponentially-weighted-averages\" data-toc-modified-id=\"Exponentially-weighted-averages-13\"><span class=\"toc-item-num\">1.3&nbsp;&nbsp;</span>Exponentially weighted averages</a></div><div class=\"lev2 toc-item\"><a href=\"#Understanding-exponentially-weighted-averages\" data-toc-modified-id=\"Understanding-exponentially-weighted-averages-14\"><span class=\"toc-item-num\">1.4&nbsp;&nbsp;</span>Understanding exponentially weighted averages</a></div><div class=\"lev2 toc-item\"><a href=\"#Bias-correction-in-exponentially-weighted-averages\" data-toc-modified-id=\"Bias-correction-in-exponentially-weighted-averages-15\"><span class=\"toc-item-num\">1.5&nbsp;&nbsp;</span>Bias correction in exponentially weighted averages</a></div><div class=\"lev2 toc-item\"><a href=\"#Gradient-descent-with-momentum\" data-toc-modified-id=\"Gradient-descent-with-momentum-16\"><span class=\"toc-item-num\">1.6&nbsp;&nbsp;</span>Gradient descent with momentum</a></div><div class=\"lev2 toc-item\"><a href=\"#RMSprop\" data-toc-modified-id=\"RMSprop-17\"><span class=\"toc-item-num\">1.7&nbsp;&nbsp;</span>RMSprop</a></div><div class=\"lev2 toc-item\"><a href=\"#Adam-optimization-algorithm\" data-toc-modified-id=\"Adam-optimization-algorithm-18\"><span class=\"toc-item-num\">1.8&nbsp;&nbsp;</span>Adam optimization algorithm</a></div><div class=\"lev2 toc-item\"><a href=\"#Learning-rate-decay\" data-toc-modified-id=\"Learning-rate-decay-19\"><span class=\"toc-item-num\">1.9&nbsp;&nbsp;</span>Learning rate decay</a></div><div class=\"lev2 toc-item\"><a href=\"#The-problem-of-local-optima\" data-toc-modified-id=\"The-problem-of-local-optima-110\"><span class=\"toc-item-num\">1.10&nbsp;&nbsp;</span>The problem of local optima</a></div>"
      ]
    },
    {
      "cell_type": "markdown",
      "metadata": {
        "id": "cMGfVvvFAgiC"
      },
      "source": [
        "# Optimization Algorithms"
      ]
    },
    {
      "cell_type": "markdown",
      "metadata": {
        "id": "2N6vqFetAgiD"
      },
      "source": [
        "## Mini-batch gradient descent"
      ]
    },
    {
      "cell_type": "markdown",
      "metadata": {
        "id": "_zmG3oxcAgiE"
      },
      "source": [
        "![](https://i.imgur.com/h3SqqNK.png)"
      ]
    },
    {
      "cell_type": "markdown",
      "metadata": {
        "id": "gy2ELsEOAgiF"
      },
      "source": [
        "![](https://i.imgur.com/K23a5Gi.png)"
      ]
    },
    {
      "cell_type": "markdown",
      "metadata": {
        "id": "62wYsOLEAgiH"
      },
      "source": [
        "## Understanding mini-batch gradient descent"
      ]
    },
    {
      "cell_type": "markdown",
      "metadata": {
        "id": "4zvxQcohAgiI"
      },
      "source": [
        "![](https://i.imgur.com/wW3Txuu.png)"
      ]
    },
    {
      "cell_type": "markdown",
      "metadata": {
        "id": "jm1x9vXmAgiJ"
      },
      "source": [
        "![](https://i.imgur.com/evd9hBu.png)"
      ]
    },
    {
      "cell_type": "markdown",
      "metadata": {
        "id": "GS9vp3hIAgiK"
      },
      "source": [
        "![](https://i.imgur.com/EVfcDPj.png)"
      ]
    },
    {
      "cell_type": "markdown",
      "metadata": {
        "id": "BScx6dusAgiL"
      },
      "source": [
        "## Exponentially weighted averages"
      ]
    },
    {
      "cell_type": "markdown",
      "metadata": {
        "collapsed": true,
        "id": "84wKDlHRAgiM"
      },
      "source": [
        "![](https://i.imgur.com/b1UZZ4Q.png)"
      ]
    },
    {
      "cell_type": "markdown",
      "metadata": {
        "id": "UBetZom1AgiM"
      },
      "source": [
        "![](https://i.imgur.com/mqtOda0.png)"
      ]
    },
    {
      "cell_type": "markdown",
      "metadata": {
        "id": "N-6Y_7T5AgiN"
      },
      "source": [
        "## Understanding exponentially weighted averages"
      ]
    },
    {
      "cell_type": "markdown",
      "metadata": {
        "id": "IwFRM_BAAgiN"
      },
      "source": [
        "![](https://i.imgur.com/JxgOHmA.png)"
      ]
    },
    {
      "cell_type": "markdown",
      "metadata": {
        "id": "coZk-2_BAgiN"
      },
      "source": [
        "![](https://i.imgur.com/j80bD9K.png)"
      ]
    },
    {
      "cell_type": "markdown",
      "metadata": {
        "id": "RMObUDtvAgiO"
      },
      "source": [
        "## Bias correction in exponentially weighted averages\n"
      ]
    },
    {
      "cell_type": "markdown",
      "metadata": {
        "id": "M0AM0a0jAgiO"
      },
      "source": [
        "![](https://i.imgur.com/CT94Pul.png)"
      ]
    },
    {
      "cell_type": "markdown",
      "metadata": {
        "id": "1FJ2VKyUAgiO"
      },
      "source": [
        "## Gradient descent with momentum"
      ]
    },
    {
      "cell_type": "markdown",
      "metadata": {
        "id": "MKf0dXP7AgiP"
      },
      "source": [
        "![](https://i.imgur.com/p8IPNT6.png)\n",
        "![](https://i.imgur.com/KiOMl7d.png)"
      ]
    },
    {
      "cell_type": "markdown",
      "metadata": {
        "id": "DWo1GEM5AgiP"
      },
      "source": [
        "## RMSprop"
      ]
    },
    {
      "cell_type": "markdown",
      "metadata": {
        "id": "av1NXPo0AgiP"
      },
      "source": [
        "![](https://i.imgur.com/9x4WBpC.png)"
      ]
    },
    {
      "cell_type": "markdown",
      "metadata": {
        "id": "6x0WU9HfAgiQ"
      },
      "source": [
        "## Adam optimization algorithm"
      ]
    },
    {
      "cell_type": "markdown",
      "metadata": {
        "id": "x82AuulXAgiQ"
      },
      "source": [
        "![](https://i.imgur.com/TDk4C43.png)\n",
        "\n",
        "![](https://i.imgur.com/4NlC7mp.png)"
      ]
    },
    {
      "cell_type": "markdown",
      "metadata": {
        "id": "_QEP3hxZAgiQ"
      },
      "source": [
        "## Learning rate decay"
      ]
    },
    {
      "cell_type": "markdown",
      "metadata": {
        "id": "cGwR7g2gAgiQ"
      },
      "source": [
        "![](https://i.imgur.com/LQ0ZWwZ.png)\n",
        "![](https://i.imgur.com/YxyiEOp.png)\n",
        "![](https://i.imgur.com/09caydm.png)"
      ]
    },
    {
      "cell_type": "markdown",
      "metadata": {
        "id": "lt8iONOxAgiR"
      },
      "source": [
        "## The problem of local optima"
      ]
    },
    {
      "cell_type": "markdown",
      "metadata": {
        "id": "b-jirfDaAgiR"
      },
      "source": [
        "![](https://i.imgur.com/Lr4ADeO.png)"
      ]
    },
    {
      "cell_type": "markdown",
      "metadata": {
        "id": "H83NMJmzAgiR"
      },
      "source": [
        "![](https://i.imgur.com/gzSH2rA.png)"
      ]
    }
  ],
  "metadata": {
    "kernelspec": {
      "display_name": "Python 3",
      "language": "python",
      "name": "python3"
    },
    "language_info": {
      "codemirror_mode": {
        "name": "ipython",
        "version": 3
      },
      "file_extension": ".py",
      "mimetype": "text/x-python",
      "name": "python",
      "nbconvert_exporter": "python",
      "pygments_lexer": "ipython3",
      "version": "3.6.2"
    },
    "toc": {
      "colors": {
        "hover_highlight": "#DAA520",
        "navigate_num": "#000000",
        "navigate_text": "#333333",
        "running_highlight": "#FF0000",
        "selected_highlight": "#FFD700",
        "sidebar_border": "#EEEEEE",
        "wrapper_background": "#FFFFFF"
      },
      "moveMenuLeft": true,
      "nav_menu": {
        "height": "99px",
        "width": "252px"
      },
      "navigate_menu": true,
      "number_sections": true,
      "sideBar": true,
      "threshold": 4,
      "toc_cell": true,
      "toc_section_display": "block",
      "toc_window_display": true,
      "widenNotebook": false
    },
    "colab": {
      "provenance": [],
      "include_colab_link": true
    }
  },
  "nbformat": 4,
  "nbformat_minor": 0
}