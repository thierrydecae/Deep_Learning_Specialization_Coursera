{
  "cells": [
    {
      "cell_type": "markdown",
      "metadata": {
        "id": "view-in-github",
        "colab_type": "text"
      },
      "source": [
        "<a href=\"https://colab.research.google.com/github/thierrydecae/Deep_Learning_Specialization_Coursera/blob/main/2.Improving%20Deep%20Neural%20Networks%3A%20Hyperparameter%20tuning%2C%20Regularization%20and%20Optimization/hyperparameter_tuning_and_programming_frameworks.ipynb\" target=\"_parent\"><img src=\"https://colab.research.google.com/assets/colab-badge.svg\" alt=\"Open In Colab\"/></a>"
      ]
    },
    {
      "cell_type": "markdown",
      "metadata": {
        "toc": "true",
        "id": "WnslMHSfA9iT"
      },
      "source": [
        "# Table of Contents\n",
        " <p><div class=\"lev1 toc-item\"><a href=\"#Hyperparameter-tuning,-Batch-Normalization-and-Programming-Frameworks\" data-toc-modified-id=\"Hyperparameter-tuning,-Batch-Normalization-and-Programming-Frameworks-1\"><span class=\"toc-item-num\">1&nbsp;&nbsp;</span>Hyperparameter tuning, Batch Normalization and Programming Frameworks</a></div><div class=\"lev2 toc-item\"><a href=\"#Hyperparameter-Tuning\" data-toc-modified-id=\"Hyperparameter-Tuning-11\"><span class=\"toc-item-num\">1.1&nbsp;&nbsp;</span>Hyperparameter Tuning</a></div><div class=\"lev3 toc-item\"><a href=\"#Tuning-Process\" data-toc-modified-id=\"Tuning-Process-111\"><span class=\"toc-item-num\">1.1.1&nbsp;&nbsp;</span>Tuning Process</a></div><div class=\"lev3 toc-item\"><a href=\"#Using-an-appropriate-scale-to-pick-hyperparameters\" data-toc-modified-id=\"Using-an-appropriate-scale-to-pick-hyperparameters-112\"><span class=\"toc-item-num\">1.1.2&nbsp;&nbsp;</span>Using an appropriate scale to pick hyperparameters</a></div><div class=\"lev3 toc-item\"><a href=\"#Hyperparameters-tuning-in-practice:-Pandas-vs.-Caviar\" data-toc-modified-id=\"Hyperparameters-tuning-in-practice:-Pandas-vs.-Caviar-113\"><span class=\"toc-item-num\">1.1.3&nbsp;&nbsp;</span>Hyperparameters tuning in practice: Pandas vs. Caviar</a></div><div class=\"lev2 toc-item\"><a href=\"#Batch-Normalization\" data-toc-modified-id=\"Batch-Normalization-12\"><span class=\"toc-item-num\">1.2&nbsp;&nbsp;</span>Batch Normalization</a></div><div class=\"lev3 toc-item\"><a href=\"#Normalizing-activations-in-a-network\" data-toc-modified-id=\"Normalizing-activations-in-a-network-121\"><span class=\"toc-item-num\">1.2.1&nbsp;&nbsp;</span>Normalizing activations in a network</a></div><div class=\"lev3 toc-item\"><a href=\"#Fitting-Batch-Norm-into-a-neural-network\" data-toc-modified-id=\"Fitting-Batch-Norm-into-a-neural-network-122\"><span class=\"toc-item-num\">1.2.2&nbsp;&nbsp;</span>Fitting Batch Norm into a neural network</a></div><div class=\"lev3 toc-item\"><a href=\"#Why-does-Batch-Norm-work?\" data-toc-modified-id=\"Why-does-Batch-Norm-work?-123\"><span class=\"toc-item-num\">1.2.3&nbsp;&nbsp;</span>Why does Batch Norm work?</a></div><div class=\"lev3 toc-item\"><a href=\"#Batch-Norm-at-test-time\" data-toc-modified-id=\"Batch-Norm-at-test-time-124\"><span class=\"toc-item-num\">1.2.4&nbsp;&nbsp;</span>Batch Norm at test time</a></div><div class=\"lev2 toc-item\"><a href=\"#Multi-class-classificiation\" data-toc-modified-id=\"Multi-class-classificiation-13\"><span class=\"toc-item-num\">1.3&nbsp;&nbsp;</span>Multi-class classificiation</a></div><div class=\"lev3 toc-item\"><a href=\"#Softmax-Regression\" data-toc-modified-id=\"Softmax-Regression-131\"><span class=\"toc-item-num\">1.3.1&nbsp;&nbsp;</span>Softmax Regression</a></div><div class=\"lev3 toc-item\"><a href=\"#Training-a-softmax-classifier\" data-toc-modified-id=\"Training-a-softmax-classifier-132\"><span class=\"toc-item-num\">1.3.2&nbsp;&nbsp;</span>Training a softmax classifier</a></div><div class=\"lev2 toc-item\"><a href=\"#Introduction-to-programming-frameworks\" data-toc-modified-id=\"Introduction-to-programming-frameworks-14\"><span class=\"toc-item-num\">1.4&nbsp;&nbsp;</span>Introduction to programming frameworks</a></div><div class=\"lev3 toc-item\"><a href=\"#Deep-Learning-Frameworks\" data-toc-modified-id=\"Deep-Learning-Frameworks-141\"><span class=\"toc-item-num\">1.4.1&nbsp;&nbsp;</span>Deep Learning Frameworks</a></div><div class=\"lev3 toc-item\"><a href=\"#TensorFlow\" data-toc-modified-id=\"TensorFlow-142\"><span class=\"toc-item-num\">1.4.2&nbsp;&nbsp;</span>TensorFlow</a></div>"
      ]
    },
    {
      "cell_type": "markdown",
      "metadata": {
        "id": "9GFxT6_7A9iV"
      },
      "source": [
        "# Hyperparameter tuning, Batch Normalization and Programming Frameworks"
      ]
    },
    {
      "cell_type": "markdown",
      "metadata": {
        "id": "nBqPM0ZeA9iY"
      },
      "source": [
        "## Hyperparameter Tuning"
      ]
    },
    {
      "cell_type": "markdown",
      "metadata": {
        "id": "HUVFeDYUA9iZ"
      },
      "source": [
        "### Tuning Process"
      ]
    },
    {
      "cell_type": "markdown",
      "metadata": {
        "id": "Rk4s4SIwA9ia"
      },
      "source": [
        "![](https://i.imgur.com/2O0mJ8T.png)\n",
        "![](https://i.imgur.com/lEofSyy.png)\n",
        "![](https://i.imgur.com/7v591Bh.png)"
      ]
    },
    {
      "cell_type": "markdown",
      "metadata": {
        "id": "kvLErRPeA9ib"
      },
      "source": [
        "### Using an appropriate scale to pick hyperparameters"
      ]
    },
    {
      "cell_type": "markdown",
      "metadata": {
        "id": "lOjC6mz6A9ib"
      },
      "source": [
        "![](https://i.imgur.com/hMkBqQN.png)"
      ]
    },
    {
      "cell_type": "markdown",
      "metadata": {
        "id": "71o5n8dqA9id"
      },
      "source": [
        "![](https://i.imgur.com/7WWzABh.png)"
      ]
    },
    {
      "cell_type": "markdown",
      "metadata": {
        "id": "XSQ8BrzpA9id"
      },
      "source": [
        "### Hyperparameters tuning in practice: Pandas vs. Caviar\n"
      ]
    },
    {
      "cell_type": "markdown",
      "metadata": {
        "id": "iCObJzFNA9ie"
      },
      "source": [
        "![](https://i.imgur.com/gZC1piD.png)"
      ]
    },
    {
      "cell_type": "markdown",
      "metadata": {
        "id": "K0b98dGaA9ie"
      },
      "source": [
        "## Batch Normalization"
      ]
    },
    {
      "cell_type": "markdown",
      "metadata": {
        "id": "t0NSx6H1A9if"
      },
      "source": [
        "### Normalizing activations in a network"
      ]
    },
    {
      "cell_type": "markdown",
      "metadata": {
        "id": "an5T526HA9if"
      },
      "source": [
        "![](https://i.imgur.com/rO2u0HS.png)\n",
        "![](https://i.imgur.com/YH9xVsw.png)"
      ]
    },
    {
      "cell_type": "markdown",
      "metadata": {
        "id": "Itl_2OgKA9ig"
      },
      "source": [
        "### Fitting Batch Norm into a neural network"
      ]
    },
    {
      "cell_type": "markdown",
      "metadata": {
        "id": "RH58ipfDA9ig"
      },
      "source": [
        "![](https://i.imgur.com/ydulxtV.png)"
      ]
    },
    {
      "cell_type": "markdown",
      "metadata": {
        "id": "E33OOlaDA9ig"
      },
      "source": [
        "![](https://i.imgur.com/Wg5nU2o.png)"
      ]
    },
    {
      "cell_type": "markdown",
      "metadata": {
        "id": "mlcg_kA4A9ig"
      },
      "source": [
        "![](https://i.imgur.com/Bs9ccPQ.png)"
      ]
    },
    {
      "cell_type": "markdown",
      "metadata": {
        "id": "ycPKqtNtA9ii"
      },
      "source": [
        "### Why does Batch Norm work?"
      ]
    },
    {
      "cell_type": "markdown",
      "metadata": {
        "id": "dXGwDXxlA9ii"
      },
      "source": [
        "![](https://i.imgur.com/BOR7g8y.png)\n",
        "![](https://i.imgur.com/OZRyg65.png)\n",
        "![](https://i.imgur.com/VSx8NnH.png)"
      ]
    },
    {
      "cell_type": "markdown",
      "metadata": {
        "id": "Y-JY1iv7A9ii"
      },
      "source": [
        "### Batch Norm at test time"
      ]
    },
    {
      "cell_type": "markdown",
      "metadata": {
        "id": "SeVPXN6EA9ii"
      },
      "source": [
        "![](https://i.imgur.com/ygXa3oQ.png)"
      ]
    },
    {
      "cell_type": "markdown",
      "metadata": {
        "id": "7044qtYKA9ij"
      },
      "source": [
        "## Multi-class classificiation"
      ]
    },
    {
      "cell_type": "markdown",
      "metadata": {
        "id": "gKDjdRWeA9ij"
      },
      "source": [
        "### Softmax Regression"
      ]
    },
    {
      "cell_type": "markdown",
      "metadata": {
        "id": "jGSPNSeIA9ij"
      },
      "source": [
        "![](https://i.imgur.com/caXsKOu.png)\n",
        "![](https://i.imgur.com/7FQzzin.png)\n",
        "![](https://i.imgur.com/TJJMNH4.png)"
      ]
    },
    {
      "cell_type": "markdown",
      "metadata": {
        "id": "7aIhC2_tA9ik"
      },
      "source": [
        "### Training a softmax classifier"
      ]
    },
    {
      "cell_type": "markdown",
      "metadata": {
        "id": "umMc5jNdA9ik"
      },
      "source": [
        "![](https://i.imgur.com/AVGvLhZ.png)\n",
        "![](https://i.imgur.com/B1sXWXh.png)\n",
        "![](https://i.imgur.com/B1sXWXh.png)"
      ]
    },
    {
      "cell_type": "markdown",
      "metadata": {
        "id": "L2AUXgg-A9ik"
      },
      "source": [
        "## Introduction to programming frameworks"
      ]
    },
    {
      "cell_type": "markdown",
      "metadata": {
        "id": "qwcd8WdeA9il"
      },
      "source": [
        "### Deep Learning Frameworks"
      ]
    },
    {
      "cell_type": "markdown",
      "metadata": {
        "id": "0Nmrvy_PA9il"
      },
      "source": [
        "![](https://i.imgur.com/96m8cmt.png)"
      ]
    },
    {
      "cell_type": "markdown",
      "metadata": {
        "id": "RU5J7wEiA9il"
      },
      "source": [
        "### TensorFlow"
      ]
    },
    {
      "cell_type": "code",
      "execution_count": null,
      "metadata": {
        "id": "t7j2AX-4A9il"
      },
      "outputs": [],
      "source": [
        "import tensorflow as tf\n",
        "import numpy as np"
      ]
    },
    {
      "cell_type": "code",
      "execution_count": null,
      "metadata": {
        "collapsed": true,
        "id": "qfdzbQ_6A9im"
      },
      "outputs": [],
      "source": [
        "w = tf.Variable(0, dtype=tf.float32)\n",
        "cost = tf.add(tf.add(w**2, tf.multiply(-10., w)), 25)"
      ]
    },
    {
      "cell_type": "code",
      "execution_count": null,
      "metadata": {
        "collapsed": true,
        "id": "oSUzGDgIA9im"
      },
      "outputs": [],
      "source": [
        "train = tf.train.GradientDescentOptimizer(0.01).minimize(cost)"
      ]
    },
    {
      "cell_type": "code",
      "execution_count": null,
      "metadata": {
        "collapsed": true,
        "id": "KZ89gTCFA9in"
      },
      "outputs": [],
      "source": [
        "init = tf.global_variables_initializer()"
      ]
    },
    {
      "cell_type": "code",
      "execution_count": null,
      "metadata": {
        "collapsed": true,
        "id": "fWEwXXReA9in"
      },
      "outputs": [],
      "source": [
        "session = tf.Session()"
      ]
    },
    {
      "cell_type": "code",
      "execution_count": null,
      "metadata": {
        "id": "kUAKzceeA9ip",
        "outputId": "0d9b0cfa-11df-4788-ac31-e65085e117b9"
      },
      "outputs": [
        {
          "name": "stdout",
          "output_type": "stream",
          "text": [
            "CPU times: user 380 ms, sys: 116 ms, total: 496 ms\n",
            "Wall time: 512 ms\n"
          ]
        }
      ],
      "source": [
        "%time session.run(init)"
      ]
    },
    {
      "cell_type": "code",
      "execution_count": null,
      "metadata": {
        "id": "RYrfNIZzA9ip",
        "outputId": "802c5f92-96c9-476a-9c62-7f69656226b6"
      },
      "outputs": [
        {
          "name": "stdout",
          "output_type": "stream",
          "text": [
            "0.0\n"
          ]
        }
      ],
      "source": [
        "print(session.run(w))"
      ]
    },
    {
      "cell_type": "code",
      "execution_count": null,
      "metadata": {
        "id": "9D_00uZcA9ip",
        "outputId": "41682966-d2a1-46f3-c5bd-e75315060754"
      },
      "outputs": [
        {
          "name": "stdout",
          "output_type": "stream",
          "text": [
            "CPU times: user 4 ms, sys: 4 ms, total: 8 ms\n",
            "Wall time: 8.87 ms\n"
          ]
        }
      ],
      "source": [
        "%time session.run(train)"
      ]
    },
    {
      "cell_type": "code",
      "execution_count": null,
      "metadata": {
        "id": "tBuJ15BFA9iq",
        "outputId": "6a46a490-cbf9-472b-f4c5-528feed1b9cd"
      },
      "outputs": [
        {
          "name": "stdout",
          "output_type": "stream",
          "text": [
            "0.1\n",
            "CPU times: user 0 ns, sys: 0 ns, total: 0 ns\n",
            "Wall time: 1.17 ms\n"
          ]
        }
      ],
      "source": [
        "%time print(session.run(w))"
      ]
    }
  ],
  "metadata": {
    "kernelspec": {
      "display_name": "Python 3",
      "language": "python",
      "name": "python3"
    },
    "language_info": {
      "codemirror_mode": {
        "name": "ipython",
        "version": 3
      },
      "file_extension": ".py",
      "mimetype": "text/x-python",
      "name": "python",
      "nbconvert_exporter": "python",
      "pygments_lexer": "ipython3",
      "version": "3.6.2"
    },
    "toc": {
      "colors": {
        "hover_highlight": "#DAA520",
        "navigate_num": "#000000",
        "navigate_text": "#333333",
        "running_highlight": "#FF0000",
        "selected_highlight": "#FFD700",
        "sidebar_border": "#EEEEEE",
        "wrapper_background": "#FFFFFF"
      },
      "moveMenuLeft": true,
      "nav_menu": {
        "height": "315px",
        "width": "252px"
      },
      "navigate_menu": true,
      "number_sections": true,
      "sideBar": true,
      "threshold": 4,
      "toc_cell": true,
      "toc_section_display": "block",
      "toc_window_display": true,
      "widenNotebook": false
    },
    "colab": {
      "provenance": [],
      "include_colab_link": true
    }
  },
  "nbformat": 4,
  "nbformat_minor": 0
}